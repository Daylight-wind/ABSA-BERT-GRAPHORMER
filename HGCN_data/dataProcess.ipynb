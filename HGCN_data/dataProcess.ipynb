{
 "cells": [
  {
   "cell_type": "code",
   "execution_count": 6,
   "id": "ebb00777",
   "metadata": {},
   "outputs": [
    {
     "name": "stdout",
     "output_type": "stream",
     "text": [
      "Data successfully saved to /Users/a123456/Code/fei01bert_graphmer/HGCN_data/meituan_dev.json\n"
     ]
    }
   ],
   "source": [
    "import pandas as pd\n",
    "import json\n",
    "\n",
    "# 加载CSV文件\n",
    "file_path = '/Users/a123456/Code/fei01bert_graphmer/HGCN_data/dev.csv'  # 替换为您的文件路径\n",
    "df = pd.read_csv(file_path)\n",
    "\n",
    "# 进一步修改的函数，用于将每行数据转换为所需的JSON格式\n",
    "def further_modified_row_to_json(row):\n",
    "    labels = []\n",
    "    for col in row.index[1:]:\n",
    "        if row[col] != -2:\n",
    "            labels.append(col)\n",
    "            labels.append(f\"{col}{int(row[col])}\")\n",
    "\n",
    "    json_obj = {\n",
    "        \"token\": row['token'],\n",
    "        \"label\": labels,\n",
    "        \"doc_topic\": [],\n",
    "        \"doc_keyword\": []\n",
    "    }\n",
    "    return json_obj\n",
    "\n",
    "# 应用进一步修改的函数到数据框的每一行\n",
    "further_modified_json_data = df.apply(further_modified_row_to_json, axis=1).tolist()\n",
    "\n",
    "# 保存转换后的数据为JSON文件，不在外部列表中\n",
    "output_file_path = '/Users/a123456/Code/fei01bert_graphmer/HGCN_data/meituan_dev.json'  # 指定输出文件的路径\n",
    "with open(output_file_path, 'w', encoding='utf-8') as f:\n",
    "    for entry in further_modified_json_data:\n",
    "        f.write(json.dumps(entry, ensure_ascii=False) + '\\n')  # 直接写入每个JSON对象和一个换行符\n",
    "\n",
    "# 输出信息表示操作完成\n",
    "print(f\"Data successfully saved to {output_file_path}\")\n"
   ]
  },
  {
   "cell_type": "code",
   "execution_count": 5,
   "id": "6ae70de8",
   "metadata": {},
   "outputs": [
    {
     "name": "stdout",
     "output_type": "stream",
     "text": [
      "Filtered data has been written to /Users/a123456/Code/fei01bert_graphmer/HGCN_data/meituan_test1.json\n"
     ]
    }
   ],
   "source": [
    "# 去掉label为空的数据\n",
    "import json\n",
    "\n",
    "# 指定JSON文件的路径\n",
    "file_path = '/Users/a123456/Code/fei01bert_graphmer/HGCN_data/meituan_test.json'  # 替换为您的JSON文件路径\n",
    "output_file_path = '/Users/a123456/Code/fei01bert_graphmer/HGCN_data/meituan_test1.json'  # 指定过滤后的JSON文件路径\n",
    "\n",
    "# 读取JSON文件，并删除\"label\"值为空的数据\n",
    "filtered_data = []\n",
    "with open(file_path, 'r', encoding='utf-8') as file:\n",
    "    for line in file:\n",
    "        data = json.loads(line)\n",
    "        if data.get(\"label\"):  # 检查\"label\"字段是否存在且不为空\n",
    "            filtered_data.append(data)\n",
    "\n",
    "# 将过滤后的数据写回新的JSON文件\n",
    "with open(output_file_path, 'w', encoding='utf-8') as file:\n",
    "    for entry in filtered_data:\n",
    "        file.write(json.dumps(entry, ensure_ascii=False) + '\\n')\n",
    "\n",
    "print(f\"Filtered data has been written to {output_file_path}\")\n",
    "\n"
   ]
  },
  {
   "cell_type": "code",
   "execution_count": 6,
   "id": "7e4680d4",
   "metadata": {},
   "outputs": [
    {
     "name": "stdout",
     "output_type": "stream",
     "text": [
      "Merged data has been written to /Users/a123456/Code/fei01bert_graphmer/HGCN_data/meituan_total.json\n"
     ]
    }
   ],
   "source": [
    "# 拼接三个JSON文件\n",
    "import json\n",
    "\n",
    "def merge_json_files(file_paths, output_file_path):\n",
    "    \"\"\"\n",
    "    合并多个JSON文件到一个文件中\n",
    "    :param file_paths: 包含要合并的JSON文件路径的列表\n",
    "    :param output_file_path: 输出文件的路径\n",
    "    \"\"\"\n",
    "    merged_data = []\n",
    "\n",
    "    # 遍历每个文件并添加其内容到merged_data列表\n",
    "    for file_path in file_paths:\n",
    "        with open(file_path, 'r', encoding='utf-8') as file:\n",
    "            for line in file:\n",
    "                data = json.loads(line)\n",
    "                merged_data.append(data)\n",
    "\n",
    "    # 将合并后的数据写入输出文件\n",
    "    with open(output_file_path, 'w', encoding='utf-8') as output_file:\n",
    "        for entry in merged_data:\n",
    "            output_file.write(json.dumps(entry, ensure_ascii=False) + '\\n')\n",
    "\n",
    "    print(f\"Merged data has been written to {output_file_path}\")\n",
    "\n",
    "# 示例文件路径，需要替换为实际路径\n",
    "file_paths = [\n",
    "    '/Users/a123456/Code/fei01bert_graphmer/HGCN_data/meituan_train1.json',\n",
    "    '/Users/a123456/Code/fei01bert_graphmer/HGCN_data/meituan_dev1.json',\n",
    "    '/Users/a123456/Code/fei01bert_graphmer/HGCN_data/meituan_test1.json'\n",
    "]\n",
    "\n",
    "# 输出文件路径\n",
    "output_file_path = '/Users/a123456/Code/fei01bert_graphmer/HGCN_data/meituan_total.json'\n",
    "\n",
    "# 调用函数合并文件\n",
    "merge_json_files(file_paths, output_file_path)\n"
   ]
  },
  {
   "cell_type": "code",
   "execution_count": 14,
   "id": "2076866e",
   "metadata": {},
   "outputs": [],
   "source": [
    "# 创建taxnomy文件，缺少了一个，手动补上了\n",
    "import json\n",
    "\n",
    "def get_hierarchy():\n",
    "    with open('/Users/a123456/Code/fei01bert_graphmer/HGCN_data/meituan_total.json', 'r', encoding=\"utf-8\") as f:\n",
    "        data = f.readlines()\n",
    "\n",
    "    label_hierarchy = {'Root': []}\n",
    "\n",
    "    for line in data:\n",
    "        line = line.rstrip('\\n')\n",
    "        line = json.loads(line)\n",
    "        \n",
    "        if 'label' in line and len(line['label']) >= 2:  # 确保 'label' 存在且包含至少两个元素\n",
    "            parent, child = line['label'][0], line['label'][1]\n",
    "            if parent in label_hierarchy:\n",
    "                if child not in label_hierarchy[parent]:\n",
    "                    label_hierarchy[parent].append(child)\n",
    "            else:\n",
    "                label_hierarchy['Root'].append(parent)\n",
    "                label_hierarchy[parent] = [child]\n",
    "        else:\n",
    "            print(\"Invalid or incomplete label data in line:\", line)\n",
    "\n",
    "    with open('meituan.taxnomy', 'w', encoding=\"utf-8\") as f:\n",
    "        for i in label_hierarchy.keys():\n",
    "            line = [i] + label_hierarchy[i]\n",
    "            line = '\\t'.join(line) + '\\n'\n",
    "            f.write(line)\n",
    "\n",
    "get_hierarchy()\n"
   ]
  },
  {
   "cell_type": "code",
   "execution_count": 12,
   "id": "51cb99ca",
   "metadata": {},
   "outputs": [
    {
     "name": "stdout",
     "output_type": "stream",
     "text": [
      "The JSON file has 46672 lines.\n"
     ]
    }
   ],
   "source": [
    "# 读取一个JSON文件，并查看数据的行数\n",
    "def count_json_file_lines(file_path):\n",
    "    \"\"\"\n",
    "    读取JSON文件并计算行数\n",
    "    :param file_path: JSON文件的路径\n",
    "    :return: 文件的行数\n",
    "    \"\"\"\n",
    "    line_count = 0\n",
    "\n",
    "    with open(file_path, 'r', encoding='utf-8') as file:\n",
    "        for _ in file:\n",
    "            line_count += 1\n",
    "\n",
    "    return line_count\n",
    "\n",
    "# 示例文件路径，需要替换为实际路径\n",
    "json_file_path = '/Users/a123456/Code/fei01bert_graphmer/HGCN_data/meituan_total.json'\n",
    "\n",
    "# 调用函数并打印行数\n",
    "line_count = count_json_file_lines(json_file_path)\n",
    "print(f\"The JSON file has {line_count} lines.\")\n",
    "\n",
    "\n",
    "\n"
   ]
  },
  {
   "cell_type": "code",
   "execution_count": 11,
   "id": "2ff72c3e",
   "metadata": {},
   "outputs": [
    {
     "data": {
      "text/plain": [
       "46672"
      ]
     },
     "execution_count": 11,
     "metadata": {},
     "output_type": "execute_result"
    }
   ],
   "source": [
    "36803+4938+4931"
   ]
  },
  {
   "cell_type": "code",
   "execution_count": null,
   "id": "c3369569",
   "metadata": {},
   "outputs": [],
   "source": []
  }
 ],
 "metadata": {
  "kernelspec": {
   "display_name": "Python 3",
   "language": "python",
   "name": "python3"
  },
  "language_info": {
   "codemirror_mode": {
    "name": "ipython",
    "version": 3
   },
   "file_extension": ".py",
   "mimetype": "text/x-python",
   "name": "python",
   "nbconvert_exporter": "python",
   "pygments_lexer": "ipython3",
   "version": "3.8.18"
  }
 },
 "nbformat": 4,
 "nbformat_minor": 5
}
